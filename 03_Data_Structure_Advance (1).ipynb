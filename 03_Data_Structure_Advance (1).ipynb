{
  "nbformat": 4,
  "nbformat_minor": 0,
  "metadata": {
    "colab": {
      "provenance": []
    },
    "kernelspec": {
      "name": "python3",
      "display_name": "Python 3"
    },
    "language_info": {
      "name": "python"
    }
  },
  "cells": [
    {
      "cell_type": "code",
      "execution_count": null,
      "metadata": {
        "id": "BzuTuBJ0Z5ip"
      },
      "outputs": [],
      "source": []
    },
    {
      "cell_type": "markdown",
      "source": [
        "#Question 1 : Write a code to reverse a string?\n",
        "#Answer :"
      ],
      "metadata": {
        "id": "Pzyg-h_iaAPf"
      }
    },
    {
      "cell_type": "code",
      "source": [
        "#code to reverse a string\n",
        "\n",
        "def reverse_string(a):\n",
        "    return a[::-1]\n",
        "\n",
        "string = \"Hello Swapnil\"\n",
        "reversed_string = reverse_string(string)\n",
        "print(reversed_string)\n"
      ],
      "metadata": {
        "colab": {
          "base_uri": "https://localhost:8080/"
        },
        "id": "Z8igrzjJaJoG",
        "outputId": "d06c7e29-4911-4a12-ca03-ed74cfe561c5"
      },
      "execution_count": null,
      "outputs": [
        {
          "output_type": "stream",
          "name": "stdout",
          "text": [
            "linpawS olleH\n"
          ]
        }
      ]
    },
    {
      "cell_type": "markdown",
      "source": [
        "#Question #2. Write a code to count the number of vowels in a string?\n",
        "#Answer:\n"
      ],
      "metadata": {
        "id": "66t8Is26alEs"
      }
    },
    {
      "cell_type": "code",
      "source": [
        "#code to count the number of vowels in a string\n",
        "def count_vowels(s):\n",
        "    vowels = \"aeiouAEIOU\"\n",
        "    count = 0\n",
        "    for char in s:\n",
        "        if char in vowels:\n",
        "            count += 1\n",
        "    return count\n",
        "string = \"Swapnil\"\n",
        "vowel_count = count_vowels(string)\n",
        "print(f\"Number of vowels: {vowel_count}\")\n"
      ],
      "metadata": {
        "colab": {
          "base_uri": "https://localhost:8080/"
        },
        "id": "4MuJcDhhaqKO",
        "outputId": "f440e101-7bbd-4eac-8111-26eceb2d74a5"
      },
      "execution_count": null,
      "outputs": [
        {
          "output_type": "stream",
          "name": "stdout",
          "text": [
            "Number of vowels: 2\n"
          ]
        }
      ]
    },
    {
      "cell_type": "code",
      "source": [],
      "metadata": {
        "id": "roiBm3p0aPui"
      },
      "execution_count": null,
      "outputs": []
    },
    {
      "cell_type": "markdown",
      "source": [
        "#Question 3. Write a code to check if a given string is a palindrome or not?\n",
        "#Answer:\n"
      ],
      "metadata": {
        "id": "5xMeNtvfa0wd"
      }
    },
    {
      "cell_type": "code",
      "source": [
        "#code to check if a given string is a palindrome or not\n",
        "def is_palindrome(s):\n",
        "    return s == s[::-1]\n",
        "\n",
        "string = \"nayan\"\n",
        "if is_palindrome(string):\n",
        "    print(\"The string is a palindrome.\")\n",
        "else:\n",
        "    print(\"The string is not a palindrome.\")\n"
      ],
      "metadata": {
        "colab": {
          "base_uri": "https://localhost:8080/"
        },
        "id": "uN7fi50ua2Lg",
        "outputId": "7e8c9678-9059-46ff-cca0-3bcdd1c426ee"
      },
      "execution_count": null,
      "outputs": [
        {
          "output_type": "stream",
          "name": "stdout",
          "text": [
            "The string is a palindrome.\n"
          ]
        }
      ]
    },
    {
      "cell_type": "code",
      "source": [],
      "metadata": {
        "id": "tH-AjRPIa7BY"
      },
      "execution_count": null,
      "outputs": []
    },
    {
      "cell_type": "markdown",
      "source": [
        "#Question 4. Write a code to check if two given strings are anagrams of each other?\n",
        "#Answer:\n"
      ],
      "metadata": {
        "id": "Li5FZoUhbWdQ"
      }
    },
    {
      "cell_type": "code",
      "source": [
        "#a code to check if two given strings are anagrams of each other\n",
        "def are_anagrams(str1, str2):\n",
        "\n",
        "   return sorted(str1) == sorted(str2)\n",
        "\n",
        "string1 = \"wolf\"\n",
        "string2 = \"flow\"\n",
        "\n",
        "if are_anagrams(string1, string2):\n",
        "    print(\"The strings are anagrams.\")\n",
        "else:\n",
        "    print(\"The strings are not anagrams.\")\n"
      ],
      "metadata": {
        "colab": {
          "base_uri": "https://localhost:8080/"
        },
        "id": "5gzmWrusbaYo",
        "outputId": "af21b116-b6c3-4795-8ac4-1f114b858e49"
      },
      "execution_count": null,
      "outputs": [
        {
          "output_type": "stream",
          "name": "stdout",
          "text": [
            "The strings are anagrams.\n"
          ]
        }
      ]
    },
    {
      "cell_type": "code",
      "source": [],
      "metadata": {
        "id": "Cvw5deRKbfbi"
      },
      "execution_count": null,
      "outputs": []
    },
    {
      "cell_type": "markdown",
      "source": [
        "#Question 5. Write a code to find all occurrences of a given substring within another string?\n",
        "#Answer:\n"
      ],
      "metadata": {
        "id": "kdDZZUuHbm3f"
      }
    },
    {
      "cell_type": "code",
      "source": [
        "#a code to find all occurrences of a given substring within another string\n",
        "\n",
        "def find_all_occurrences(s, sub):\n",
        "    occurrences = []\n",
        "    start = 0\n",
        "\n",
        "    #Continue until there are no more substrings discovered\n",
        "\n",
        "    while True:\n",
        "        pos = s.find(sub, start)\n",
        "        if pos == -1:\n",
        "            break\n",
        "        occurrences.append(pos)\n",
        "        #After the discovered substring, go to the next character\n",
        "        start = pos + 1\n",
        "\n",
        "    return occurrences\n",
        "\n",
        "string = \"The sky is blue, the grass is green, and life is beautiful\"\n",
        "substring = \"is\"\n",
        "positions = find_all_occurrences(string, substring)\n",
        "print(f\"Substring '{substring}' found at positions: {positions}\")\n"
      ],
      "metadata": {
        "colab": {
          "base_uri": "https://localhost:8080/"
        },
        "id": "F9kbXMqLbn8v",
        "outputId": "18949380-963f-4701-ae4b-554f31989663"
      },
      "execution_count": null,
      "outputs": [
        {
          "output_type": "stream",
          "name": "stdout",
          "text": [
            "Substring 'is' found at positions: [8, 27, 46]\n"
          ]
        }
      ]
    },
    {
      "cell_type": "code",
      "source": [],
      "metadata": {
        "id": "ELp0pDBFbyO6"
      },
      "execution_count": null,
      "outputs": []
    },
    {
      "cell_type": "markdown",
      "source": [
        "#Question 6. Write a code to perform basic string compression using the counts of repeated characters?\n",
        "#Answer:\n"
      ],
      "metadata": {
        "id": "5UJeUIbbb63m"
      }
    },
    {
      "cell_type": "code",
      "source": [
        "#a code to perform basic string compression using the counts of repeated characters\n",
        "\n",
        "def compress_string(s):\n",
        "\n",
        "    compressed = []\n",
        "    count = 1\n",
        "\n",
        "    for i in range(1, len(s)):\n",
        "        if s[i] == s[i - 1]:\n",
        "            count += 1\n",
        "        else:\n",
        "            compressed.append(f\"{s[i - 1]}{count}\")\n",
        "            count = 1\n",
        "\n",
        "    compressed.append(f\"{s[-1]}{count}\")\n",
        "    compressed_str = ''.join(compressed)\n",
        "\n",
        "    return compressed_str if len(compressed_str) < len(s) else s\n",
        "\n",
        "original_string = \"sssswwwaap\"\n",
        "print(compress_string(original_string))\n"
      ],
      "metadata": {
        "colab": {
          "base_uri": "https://localhost:8080/"
        },
        "id": "C3_oCH_Xb8ze",
        "outputId": "7ce62c5e-0774-4a37-b730-16d13f04f926"
      },
      "execution_count": null,
      "outputs": [
        {
          "output_type": "stream",
          "name": "stdout",
          "text": [
            "s4w3a2p1\n"
          ]
        }
      ]
    },
    {
      "cell_type": "code",
      "source": [],
      "metadata": {
        "id": "l8UUEH3qcEmk"
      },
      "execution_count": null,
      "outputs": []
    },
    {
      "cell_type": "markdown",
      "source": [
        "#Question 7. Write a code to determine if a string has all unique characters?\n",
        "#Answer:\n"
      ],
      "metadata": {
        "id": "9mRZnA-mcSH3"
      }
    },
    {
      "cell_type": "code",
      "source": [
        "#code to determine if a string has all unique characters\n",
        "\n",
        "def unique_characters(s):\n",
        "    return len(s) == len(set(s))\n",
        "\n",
        "string1 = \"swaaap\"\n",
        "string2 = \"pnil\"\n",
        "\n",
        "#a string has all unique characters or not\n",
        "print(unique_characters(string1))\n",
        "print(unique_characters(string2))\n"
      ],
      "metadata": {
        "colab": {
          "base_uri": "https://localhost:8080/"
        },
        "id": "L7BPB0CacTKH",
        "outputId": "34ce5213-b251-4400-eaba-c83815addaad"
      },
      "execution_count": null,
      "outputs": [
        {
          "output_type": "stream",
          "name": "stdout",
          "text": [
            "False\n",
            "True\n"
          ]
        }
      ]
    },
    {
      "cell_type": "code",
      "source": [],
      "metadata": {
        "id": "G41WAcChcZAJ"
      },
      "execution_count": null,
      "outputs": []
    },
    {
      "cell_type": "markdown",
      "source": [
        "#Question 8. Write a code to convert a given string to uppercase or lowercase?\n",
        "#Answer:\n"
      ],
      "metadata": {
        "id": "0wploViccp4-"
      }
    },
    {
      "cell_type": "code",
      "source": [
        "#code to convert a given string to uppercase or lowercase\n",
        "\n",
        "def convert_case(s, type_case):\n",
        "    if type_case == 'upper':\n",
        "        return s.upper()  # Convert to uppercase\n",
        "    elif type_case == 'lower':\n",
        "        return s.lower()  # Convert to lowercase\n",
        "\n",
        "original_string = \"Sachin, Kohli\"\n",
        "upper_string = convert_case(original_string, 'upper')\n",
        "lower_string = convert_case(original_string, 'lower')\n",
        "\n",
        "print(\"Original String:\", original_string)\n",
        "print(\"Uppercase String:\", upper_string)\n",
        "print(\"Lowercase String:\", lower_string)\n"
      ],
      "metadata": {
        "colab": {
          "base_uri": "https://localhost:8080/"
        },
        "id": "oJI8tlECcqsv",
        "outputId": "d3f988e4-f328-4a43-a7d1-dd42ec756ed1"
      },
      "execution_count": null,
      "outputs": [
        {
          "output_type": "stream",
          "name": "stdout",
          "text": [
            "Original String: Sachin, Kohli\n",
            "Uppercase String: SACHIN, KOHLI\n",
            "Lowercase String: sachin, kohli\n"
          ]
        }
      ]
    },
    {
      "cell_type": "code",
      "source": [],
      "metadata": {
        "id": "oR2zWZ9hcyH7"
      },
      "execution_count": null,
      "outputs": []
    },
    {
      "cell_type": "markdown",
      "source": [
        "#Question 9.Write a code to count the number of words in a string?\n",
        "#Answer:\n"
      ],
      "metadata": {
        "id": "4i1mWbxGc60n"
      }
    },
    {
      "cell_type": "code",
      "source": [
        "#code to count the number of words in a string\n",
        "\n",
        "def count_words(s):\n",
        "    words = s.split()\n",
        "    return len(words)\n",
        "\n",
        "word_string = \"My name is Sachin Tendulkar\"\n",
        "word_count = count_words(word_string)\n",
        "\n",
        "print(\"Original String:\", word_string)  #print original string\n",
        "print(\"Number of Words:\", word_count)   #count number of words\n"
      ],
      "metadata": {
        "colab": {
          "base_uri": "https://localhost:8080/"
        },
        "id": "HR0lo7gec7xt",
        "outputId": "a82f6447-b802-4f0d-db05-29de56afb3c1"
      },
      "execution_count": null,
      "outputs": [
        {
          "output_type": "stream",
          "name": "stdout",
          "text": [
            "Original String: My name is Sachin Tendulkar\n",
            "Number of Words: 5\n"
          ]
        }
      ]
    },
    {
      "cell_type": "code",
      "source": [],
      "metadata": {
        "id": "EsUzWrtgdC1S"
      },
      "execution_count": null,
      "outputs": []
    },
    {
      "cell_type": "markdown",
      "source": [
        "#Question 10. Write a code to concatenate two strings without using the + operator?\n",
        "#Answer:\n"
      ],
      "metadata": {
        "id": "uF-SQoIIdVjk"
      }
    },
    {
      "cell_type": "code",
      "source": [
        "#code to concatenate two strings without using the + operator\n",
        "\n",
        "string1 = \"Sachin\"\n",
        "string2 = \"Tendulkar\"\n",
        "result = \" \".join([string1, string2])\n",
        "print(\"joint string :\", result) #joint string\n"
      ],
      "metadata": {
        "colab": {
          "base_uri": "https://localhost:8080/"
        },
        "id": "20KfLdAidWWO",
        "outputId": "84915a4f-9baa-4ada-f7c3-b5b85ee46589"
      },
      "execution_count": null,
      "outputs": [
        {
          "output_type": "stream",
          "name": "stdout",
          "text": [
            "joint string : Sachin Tendulkar\n"
          ]
        }
      ]
    },
    {
      "cell_type": "markdown",
      "source": [
        "#Question 11.Write a code to remove all occurrences of a specific element from a list?\n",
        "#Answer:\n"
      ],
      "metadata": {
        "id": "KvFwGFo2d9b_"
      }
    },
    {
      "cell_type": "code",
      "source": [
        "#code to remove all occurrences of a specific element from a list\n",
        "\n",
        "def remove_occurrences(list, element):\n",
        "    return [item for item in list if item != element]\n",
        "\n",
        "my_list = [1, 2, 3, 3, 3, 4, 5]\n",
        "element_to_remove = 3\n",
        "new_list = remove_occurrences(my_list, element_to_remove)\n",
        "print(new_list) #removed 3\n"
      ],
      "metadata": {
        "colab": {
          "base_uri": "https://localhost:8080/"
        },
        "id": "dzpIUHnYd-b_",
        "outputId": "43fa9046-0409-4e17-d3fe-6ab9792b9202"
      },
      "execution_count": null,
      "outputs": [
        {
          "output_type": "stream",
          "name": "stdout",
          "text": [
            "[1, 2, 4, 5]\n"
          ]
        }
      ]
    },
    {
      "cell_type": "code",
      "source": [],
      "metadata": {
        "id": "6FKthv9YdYW1"
      },
      "execution_count": null,
      "outputs": []
    },
    {
      "cell_type": "markdown",
      "source": [
        "#Question 12.Implement a code to find the second largest number in a given list of integers?\n",
        "#Answer:\n"
      ],
      "metadata": {
        "id": "ityDZYC0eSjV"
      }
    },
    {
      "cell_type": "code",
      "source": [
        "#code to find the second largest number in a given list of integers\n",
        "\n",
        "def second_largest(numbers):\n",
        "    unique_numbers = set(numbers)  # Remove duplicates\n",
        "    if len(unique_numbers) < 2:\n",
        "        return None\n",
        "    unique_numbers.remove(max(unique_numbers))  # Remove the largest number\n",
        "    return max(unique_numbers)  # Return the second largest number\n",
        "\n",
        "\n",
        "my_list = [11,22,22,33,66,88]\n",
        "result = second_largest(my_list)\n",
        "print(\"Second largest number:\",result)\n"
      ],
      "metadata": {
        "colab": {
          "base_uri": "https://localhost:8080/"
        },
        "id": "_QL5qEfCeTbG",
        "outputId": "847ec320-ae88-4a51-c39c-2e70a9a1ffe6"
      },
      "execution_count": null,
      "outputs": [
        {
          "output_type": "stream",
          "name": "stdout",
          "text": [
            "Second largest number: 66\n"
          ]
        }
      ]
    },
    {
      "cell_type": "markdown",
      "source": [
        "#Question 13. Create a code to count the occurrences of each element in a list and return a dictionary with elements as keys and their counts as values?\n",
        "#Answer:\n"
      ],
      "metadata": {
        "id": "gwx3if47fBxn"
      }
    },
    {
      "cell_type": "code",
      "source": [
        "#code to count the occurrences of each element in a list\n",
        "#and return a dictionary with elements as keys and their\n",
        "#counts as values\n",
        "\n",
        "def count_occurrences(list):\n",
        "    counts = {}\n",
        "    for element in list:\n",
        "        if element in counts:\n",
        "            counts[element] += 1\n",
        "        else:\n",
        "            counts[element] = 1\n",
        "    return counts\n",
        "\n",
        "\n",
        "my_list = [1, 1, 1, 2, 3, 4, 4, 4, 4, 4,5]\n",
        "result = count_occurrences(my_list)\n",
        "print(\"Count Occurrences\",result)\n"
      ],
      "metadata": {
        "colab": {
          "base_uri": "https://localhost:8080/"
        },
        "id": "P8EiYL3QfDZh",
        "outputId": "77768dd5-4f71-46fc-8f9f-76fb643e70b0"
      },
      "execution_count": null,
      "outputs": [
        {
          "output_type": "stream",
          "name": "stdout",
          "text": [
            "Count Occurrences {1: 3, 2: 1, 3: 1, 4: 5, 5: 1}\n"
          ]
        }
      ]
    },
    {
      "cell_type": "code",
      "source": [],
      "metadata": {
        "id": "fHk4KfinedJX"
      },
      "execution_count": null,
      "outputs": []
    },
    {
      "cell_type": "markdown",
      "source": [
        "#Question 14. Write a code to reverse a list in-place without using any built-in reverse functions?\n",
        "#Answer:\n"
      ],
      "metadata": {
        "id": "3bJEybzafs7x"
      }
    },
    {
      "cell_type": "code",
      "source": [
        "#code to reverse a list in-place without using any built-in reverse functions\n",
        "\n",
        "def reverse_list(list):\n",
        "    left = 0\n",
        "    right = len(list) - 1\n",
        "\n",
        "    while left < right:\n",
        "\n",
        "        list[left], list[right] = list[right], list[left]\n",
        "\n",
        "        left += 1\n",
        "        right -= 1\n",
        "\n",
        "\n",
        "my_list = [122, 223, 132, 44, 55]\n",
        "reverse_list(my_list)\n",
        "print(\"Reverse list\", my_list)\n"
      ],
      "metadata": {
        "colab": {
          "base_uri": "https://localhost:8080/"
        },
        "id": "83tDrp6ifuZ3",
        "outputId": "e61e318b-63a2-46d7-a260-4013b12fe10e"
      },
      "execution_count": null,
      "outputs": [
        {
          "output_type": "stream",
          "name": "stdout",
          "text": [
            "Reverse list [55, 44, 132, 223, 122]\n"
          ]
        }
      ]
    },
    {
      "cell_type": "markdown",
      "source": [
        "#Question 15.Implement a code to find and remove duplicates from a list while preserving the original order of elements?\n",
        "#Answer:\n"
      ],
      "metadata": {
        "id": "QmpDR11ZgSon"
      }
    },
    {
      "cell_type": "code",
      "source": [
        "#code to find and remove duplicates from a list while preserving the original order of elements\n",
        "\n",
        "def remove_duplicates(list):\n",
        "    discovered = set()\n",
        "    result = []   # list to store the result without duplicates\n",
        "\n",
        "    for element in list:\n",
        "        if element not in discovered:\n",
        "            discovered.add(element)\n",
        "\n",
        "            # Append to result list\n",
        "            result.append(element)\n",
        "\n",
        "    return result\n",
        "\n",
        "\n",
        "my_list = [11, 22, 33, 22, 44, 33, 55, 66]\n",
        "result = remove_duplicates(my_list)\n",
        "print(\"Output\",result)\n"
      ],
      "metadata": {
        "colab": {
          "base_uri": "https://localhost:8080/"
        },
        "id": "qnhZHRxhgVjR",
        "outputId": "22d56142-69b6-4e92-d123-2767780e016d"
      },
      "execution_count": null,
      "outputs": [
        {
          "output_type": "stream",
          "name": "stdout",
          "text": [
            "Output [11, 22, 33, 44, 55, 66]\n"
          ]
        }
      ]
    },
    {
      "cell_type": "code",
      "source": [],
      "metadata": {
        "id": "dsdgbRVyf4Ce"
      },
      "execution_count": null,
      "outputs": []
    },
    {
      "cell_type": "markdown",
      "source": [
        "#Question 16. Create a code to check if a given list is sorted (either in ascending or descending order) or not?\n",
        "#Answer:\n"
      ],
      "metadata": {
        "id": "u_t04ARmgzkK"
      }
    },
    {
      "cell_type": "code",
      "source": [
        "#The function is_sorted checks whether the input list lst is sorted.\n",
        "#It returns True if the list is sorted in either ascending or descending order and False otherwise.\n",
        "\n",
        "def is_sorted(list):\n",
        "    if len(list) < 2:\n",
        "        return True\n",
        "\n",
        "    ascending = all(list[i] <= list[i + 1] for i in range(len(list) - 1))\n",
        "    descending = all(list[i] >= list[i + 1] for i in range(len(list) - 1))\n",
        "\n",
        "    return ascending or descending\n",
        "\n",
        "\n",
        "my_list1 = [11, 22,33, 44, 55]\n",
        "my_list2 = [55, 44, 33, 32, 11]\n",
        "my_list3 = [11, 33, 22, 34]\n",
        "\n",
        "print(is_sorted(my_list1))  # True (ascending)\n",
        "print(is_sorted(my_list2))  # True (descending)\n",
        "print(is_sorted(my_list3))  # False (not sorted)\n"
      ],
      "metadata": {
        "colab": {
          "base_uri": "https://localhost:8080/"
        },
        "id": "V78waoNYg3n-",
        "outputId": "fb1290ad-34bf-45ea-c023-8b7b4fbe880f"
      },
      "execution_count": null,
      "outputs": [
        {
          "output_type": "stream",
          "name": "stdout",
          "text": [
            "True\n",
            "True\n",
            "False\n"
          ]
        }
      ]
    },
    {
      "cell_type": "code",
      "source": [],
      "metadata": {
        "id": "3RKtdwkfhBoy"
      },
      "execution_count": null,
      "outputs": []
    },
    {
      "cell_type": "markdown",
      "source": [
        "#Question 17. Write a code to merge two sorted lists into a single sorted list?\n",
        "#Answer:\n"
      ],
      "metadata": {
        "id": "Z1ihjKw2hLZe"
      }
    },
    {
      "cell_type": "code",
      "source": [
        "#The merge_two_sorted_lists function takes two sorted lists, list1 and list2\n",
        "\n",
        "def merge_two_sorted_lists(list1, list2):\n",
        "    merged_list = []\n",
        "    i, j = 0, 0\n",
        "\n",
        "\n",
        "    while i < len(list1) and j < len(list2):\n",
        "        if list1[i] < list2[j]:\n",
        "            merged_list.append(list1[i])\n",
        "            i += 1\n",
        "        else:\n",
        "            merged_list.append(list2[j])\n",
        "            j += 1\n",
        "\n",
        "    # If there are remaining elements in list1, add them to merged_list\n",
        "    while i < len(list1):\n",
        "        merged_list.append(list1[i])\n",
        "        i += 1\n",
        "\n",
        "    # If there are remaining elements in list2, add them to merged_list\n",
        "    while j < len(list2):\n",
        "        merged_list.append(list2[j])\n",
        "        j += 1\n",
        "\n",
        "    return merged_list\n",
        "\n",
        "list1 = [11,33, 55, 77]\n",
        "list2 = [22, 44, 66, 88]\n",
        "result = merge_two_sorted_lists(list1, list2)\n",
        "print(\"Merged two sorted list:\",result)\n"
      ],
      "metadata": {
        "colab": {
          "base_uri": "https://localhost:8080/"
        },
        "id": "BjT7xwNqhPMn",
        "outputId": "38300415-ae67-44bf-ce3c-e5def8fca020"
      },
      "execution_count": null,
      "outputs": [
        {
          "output_type": "stream",
          "name": "stdout",
          "text": [
            "Merged two sorted list: [11, 22, 33, 44, 55, 66, 77, 88]\n"
          ]
        }
      ]
    },
    {
      "cell_type": "markdown",
      "source": [
        "#Question 18 Implement a code to find the intersection of two given lists?\n",
        "#Answer:\n"
      ],
      "metadata": {
        "id": "UbJ4shByipXP"
      }
    },
    {
      "cell_type": "code",
      "source": [
        "#the intersection of two given lists\n",
        "\n",
        "def intersection(list1, list2):\n",
        "\n",
        "    # Convert lists to sets to find the intersection\n",
        "    set1 = set(list1)\n",
        "    set2 = set(list2)\n",
        "\n",
        "    # uses the & operator to find common elements between the two sets\n",
        "    return list(set1 & set2)\n",
        "\n",
        "#converts the result back to a list and returns it.\n",
        "\n",
        "list1 = [22, 33, 44, 55]\n",
        "list2 = [44, 55, 66, 77]\n",
        "result = intersection(list1, list2)\n",
        "print(\"The intersection of two given lists:\", result)\n"
      ],
      "metadata": {
        "colab": {
          "base_uri": "https://localhost:8080/"
        },
        "id": "btdjl_XgiqSD",
        "outputId": "a4d1695c-1e1b-4cea-9093-4490eb99ecb7"
      },
      "execution_count": null,
      "outputs": [
        {
          "output_type": "stream",
          "name": "stdout",
          "text": [
            "The intersection of two given lists: [44, 55]\n"
          ]
        }
      ]
    },
    {
      "cell_type": "code",
      "source": [],
      "metadata": {
        "id": "DIp93k5MhaOM"
      },
      "execution_count": null,
      "outputs": []
    },
    {
      "cell_type": "markdown",
      "source": [
        "#Question 19.Create a code to find the union of two lists without duplicates?\n",
        "#Answer:\n"
      ],
      "metadata": {
        "id": "dAX9XGiPjFMt"
      }
    },
    {
      "cell_type": "code",
      "source": [
        "#Union of two lists without duplicates\n",
        "\n",
        "def union(list1, list2):\n",
        "    # Use a set to eliminate duplicates and combine both lists\n",
        "    # union function uses the | operator to combine the two sets created\n",
        "    #from the input lists, which automatically removes duplicates.\n",
        "\n",
        "    return list(set(list1) | set(list2))\n",
        "\n",
        "list1 = [11, 22, 33, 44]\n",
        "list2 = [44, 55, 66, 77]\n",
        "result = union(list1, list2)\n",
        "print(\"The union of two lists without duplicates:\",result)\n"
      ],
      "metadata": {
        "colab": {
          "base_uri": "https://localhost:8080/"
        },
        "id": "VdoiXTSEjIMc",
        "outputId": "4e49e6e5-6186-4972-c386-142b1f0cd1a0"
      },
      "execution_count": null,
      "outputs": [
        {
          "output_type": "stream",
          "name": "stdout",
          "text": [
            "The union of two lists without duplicates: [33, 66, 11, 44, 77, 22, 55]\n"
          ]
        }
      ]
    },
    {
      "cell_type": "markdown",
      "source": [
        "#Question 20. Write a code to shuffle a given list randomly without using any built-in shuffle functions?\n",
        "#Answer:\n"
      ],
      "metadata": {
        "id": "DEDD_L5CjpST"
      }
    },
    {
      "cell_type": "code",
      "source": [
        "#shuffle a given list randomly without using any built-in shuffle functions\n",
        "\n",
        "\n",
        "import random\n",
        "\n",
        "def shuffle_list(list):\n",
        "\n",
        "    # Create a copy of the original list to shuffle\n",
        "\n",
        "    shuffled_list = list[:]\n",
        "    n = len(shuffled_list)\n",
        "\n",
        "    # Iterate over the list in reverse order\n",
        "    for i in range(n - 1, 0, -1):\n",
        "\n",
        "\n",
        "        j = random.randint(0, i)\n",
        "\n",
        "        # Swappiing of the elements at indices i and j\n",
        "        shuffled_list[i], shuffled_list[j] = shuffled_list[j], shuffled_list[i]\n",
        "\n",
        "    return shuffled_list\n",
        "\n",
        "\n",
        "original_list = [11, 22, 33, 44, 55]\n",
        "shuffled = shuffle_list(original_list)\n",
        "\n",
        "print(\"Original list:\", original_list)\n",
        "print(\"Shuffled list:\", shuffled)\n"
      ],
      "metadata": {
        "colab": {
          "base_uri": "https://localhost:8080/"
        },
        "id": "MF2oXCfrjqHf",
        "outputId": "24dce58f-1ad7-4b81-c127-2875188e6fa9"
      },
      "execution_count": null,
      "outputs": [
        {
          "output_type": "stream",
          "name": "stdout",
          "text": [
            "Original list: [11, 22, 33, 44, 55]\n",
            "Shuffled list: [11, 22, 44, 55, 33]\n"
          ]
        }
      ]
    },
    {
      "cell_type": "code",
      "source": [],
      "metadata": {
        "id": "efx09j9jjXMS"
      },
      "execution_count": null,
      "outputs": []
    },
    {
      "cell_type": "markdown",
      "source": [
        "#Question 21. Write a code that takes two tuples as input and returns a new tuple containing elements that are common to both input tuples?\n",
        "#Answer:\n"
      ],
      "metadata": {
        "id": "e9oQRouxkFEN"
      }
    },
    {
      "cell_type": "code",
      "source": [
        "\n",
        "def common_elements(tuple1, tuple2):\n",
        "\n",
        "    #set intersection to find common elements\n",
        "    return tuple(set(tuple1) & set(tuple2))\n",
        "\n",
        "tuple1 = (11,25,22,33,44)\n",
        "tuple2 = (44,25,55,66,77)\n",
        "result = common_elements(tuple1 ,tuple2)\n",
        "print(\"Common element in both the tuples:\",result)\n"
      ],
      "metadata": {
        "colab": {
          "base_uri": "https://localhost:8080/"
        },
        "id": "OPpvJSO9kGi2",
        "outputId": "ae15f002-76fb-41d2-ccb8-e7b51b05ab4e"
      },
      "execution_count": null,
      "outputs": [
        {
          "output_type": "stream",
          "name": "stdout",
          "text": [
            "Common element in both the tuples: (25, 44)\n"
          ]
        }
      ]
    },
    {
      "cell_type": "code",
      "source": [],
      "metadata": {
        "id": "8GSNLYm7kMz7"
      },
      "execution_count": null,
      "outputs": []
    },
    {
      "cell_type": "markdown",
      "source": [
        "#Question 22.Create a code that prompts the user to enter two sets of integers separated by commas. Then,print the intersection of these two sets?\n",
        "#Answer:\n"
      ],
      "metadata": {
        "id": "IZuR-Xtdkc5o"
      }
    },
    {
      "cell_type": "code",
      "source": [
        "#Intersection of two sets\n",
        "\n",
        "def get_set_input(prompt):\n",
        "    # Prompt user input, split by commas, and convert to a set of integers\n",
        "    return set(map(int, input(prompt).split(',')))\n",
        "\n",
        "def main():\n",
        "    # Get two sets from user input\n",
        "    set1 = get_set_input(\"Enter the set01 of integers (separated by commas): \")\n",
        "    set2 = get_set_input(\"Enter the set02 of integers (separated by commas): \")\n",
        "\n",
        "    # intersection of two sets\n",
        "    intersection = set1 & set2\n",
        "\n",
        "    # Print the result\n",
        "    print(\"The intersection of the two sets is:\", intersection)\n",
        "\n",
        "# Run the main function\n",
        "if __name__ == \"__main__\":\n",
        "    main()\n"
      ],
      "metadata": {
        "colab": {
          "base_uri": "https://localhost:8080/"
        },
        "id": "Ir8Xyxqukf-G",
        "outputId": "db9b5013-e36c-46db-dbf4-55a75419ee8f"
      },
      "execution_count": null,
      "outputs": [
        {
          "output_type": "stream",
          "name": "stdout",
          "text": [
            "Enter the set01 of integers (separated by commas): 11,22,23,35,56\n",
            "Enter the set02 of integers (separated by commas): 22,34,44,56,78\n",
            "The intersection of the two sets is: {56, 22}\n"
          ]
        }
      ]
    },
    {
      "cell_type": "code",
      "source": [],
      "metadata": {
        "id": "l7HjIHJ2kqwi"
      },
      "execution_count": null,
      "outputs": []
    },
    {
      "cell_type": "markdown",
      "source": [
        "#Question 23.Write a code to concatenate two tuples. The function should take two tuples as input and return a new tuple containing elements from both input tuples?\n",
        "#Answer:\n"
      ],
      "metadata": {
        "id": "bm7xpPe4lTzz"
      }
    },
    {
      "cell_type": "code",
      "source": [
        "#Using two tuples as input, this Python function creates a new tuple\n",
        "#with the elements of the two input tuples concatenated\n",
        "\n",
        "def concatenate_tuples(tuple1, tuple2):\n",
        "    # Concatenate the two tuples\n",
        "    return tuple1 + tuple2\n",
        "\n",
        "tuple1 = (11, 22, 33)\n",
        "tuple2 = (44, 55, 66 ,77)\n",
        "result = concatenate_tuples(tuple1, tuple2)\n",
        "print(\"Concatenated Tuple:\",result)\n"
      ],
      "metadata": {
        "colab": {
          "base_uri": "https://localhost:8080/"
        },
        "id": "VZbCqE4glWve",
        "outputId": "b2ada7b4-0c68-4cfd-b09b-29cdd439c0ec"
      },
      "execution_count": null,
      "outputs": [
        {
          "output_type": "stream",
          "name": "stdout",
          "text": [
            "Concatenated Tuple: (11, 22, 33, 44, 55, 66, 77)\n"
          ]
        }
      ]
    },
    {
      "cell_type": "code",
      "source": [],
      "metadata": {
        "id": "eynkxI9flZ2W"
      },
      "execution_count": null,
      "outputs": []
    },
    {
      "cell_type": "markdown",
      "source": [
        "#Question 24. Develop a code that prompts the user to input two sets of strings.Then,print the elements that are present in the first set but not in the second set?\n",
        "#Answer:\n"
      ],
      "metadata": {
        "id": "avIGgx2jl2eb"
      }
    },
    {
      "cell_type": "code",
      "source": [
        "#After reading user input and splitting it into sets of strings,\n",
        "#this program uses the - operator to compute the difference.\n",
        "#Things that are in the first set but absent from the second will be included in the difference.\n",
        "\n",
        "def get_set_input(prompt):\n",
        "    return set(input(prompt).split(','))\n",
        "\n",
        "def main():\n",
        "    # Get two sets from user input\n",
        "    set1 = get_set_input(\"Enter the first set of strings (separated by commas): \")\n",
        "    set2 = get_set_input(\"Enter the second set of strings (separated by commas): \")\n",
        "\n",
        "    # Calculate the difference (elements in set1 but not in set2)\n",
        "    difference = set1 - set2\n",
        "\n",
        "    # Print the result\n",
        "    print(\"Elements present in the first set but not in the second set:\", difference)\n",
        "\n",
        "# Run the main function\n",
        "if __name__ == \"__main__\":\n",
        "    main()\n"
      ],
      "metadata": {
        "colab": {
          "base_uri": "https://localhost:8080/"
        },
        "id": "xJk-7pesl5kH",
        "outputId": "12f97b20-8549-4c58-9423-a8a55667259a"
      },
      "execution_count": null,
      "outputs": [
        {
          "output_type": "stream",
          "name": "stdout",
          "text": [
            "Enter the first set of strings (separated by commas): Sachin,Saurav,Virat\n",
            "Enter the second set of strings (separated by commas): Tendulkar,Ganguly,Kohli\n",
            "Elements present in the first set but not in the second set: {'Virat', 'Sachin', 'Saurav'}\n"
          ]
        }
      ]
    },
    {
      "cell_type": "code",
      "source": [],
      "metadata": {
        "id": "JOaKHleAmDiC"
      },
      "execution_count": null,
      "outputs": []
    },
    {
      "cell_type": "markdown",
      "source": [
        "#Question 25. Create a code that takes a tuple and two integers as input.The function should return a new tuple containing elements from the original tuple within the specified range of indices?\n",
        "#Answer:\n"
      ],
      "metadata": {
        "id": "7d_-3q8ImRyp"
      }
    },
    {
      "cell_type": "code",
      "source": [
        "#This Python function creates a new tuple with elements from the original tuple\n",
        "#within the given range of indices, given a tuple and two integers (which represent indices) as input:\n",
        "\n",
        "def slice_tuple(input_tuple, start_index, end_index):\n",
        "    # Slice the tuple from start_index to end_index\n",
        "    return input_tuple[start_index:end_index]\n",
        "\n",
        "input_tuple = (11, 22, 33, 44, 55, 66, 77)\n",
        "start_index = 2\n",
        "end_index = 6\n",
        "result = slice_tuple(input_tuple, start_index, end_index)\n",
        "print(\"Output:\",result)\n",
        "\n"
      ],
      "metadata": {
        "colab": {
          "base_uri": "https://localhost:8080/"
        },
        "id": "25souYe3mXXF",
        "outputId": "545c77bf-a46a-4c74-cdc8-05dbf3e6913a"
      },
      "execution_count": null,
      "outputs": [
        {
          "output_type": "stream",
          "name": "stdout",
          "text": [
            "Output: (33, 44, 55, 66)\n"
          ]
        }
      ]
    },
    {
      "cell_type": "markdown",
      "source": [
        "#Question 26.Write a code that prompts the user to input two sets of characters.Then,print the union of these two sets?\n",
        "#Answer:\n"
      ],
      "metadata": {
        "id": "u7yYM1g-mw64"
      }
    },
    {
      "cell_type": "code",
      "source": [
        "#print union of two sets\n",
        "\n",
        "def get_set_input(prompt):\n",
        "    return set(input(prompt).split(','))\n",
        "\n",
        "def main():\n",
        "    # Get two sets from user input\n",
        "    set1 = get_set_input(\"Enter the first set of characters (separated by commas): \")\n",
        "    set2 = get_set_input(\"Enter the second set of characters (separated by commas): \")\n",
        "\n",
        "    # union - all elements from both sets\n",
        "    union = set1 | set2\n",
        "\n",
        "    # Print the result\n",
        "    print(\"The union of the two sets is:\", union)\n",
        "\n",
        "# Run the main function\n",
        "if __name__ == \"__main__\":\n",
        "    main()\n"
      ],
      "metadata": {
        "colab": {
          "base_uri": "https://localhost:8080/"
        },
        "id": "vRB_w7upm0ia",
        "outputId": "aa2f0a07-6400-4974-d6d5-64335484edb8"
      },
      "execution_count": null,
      "outputs": [
        {
          "output_type": "stream",
          "name": "stdout",
          "text": [
            "Enter the first set of characters (separated by commas): aa,bb,cc,dd\n",
            "Enter the second set of characters (separated by commas): dd,bb,cc,ee\n",
            "The union of the two sets is: {'cc', 'ee', 'aa', 'bb', 'dd'}\n"
          ]
        }
      ]
    },
    {
      "cell_type": "code",
      "source": [],
      "metadata": {
        "id": "Zw2U1odfmeGj"
      },
      "execution_count": null,
      "outputs": []
    },
    {
      "cell_type": "markdown",
      "source": [
        "#Question 27. Develop a code that takes a tuple of integers as input.The function should return the maximum and minimum values from the tuple using tuple unpacking.\n",
        "#Answer:\n"
      ],
      "metadata": {
        "id": "dKzCznYtneUS"
      }
    },
    {
      "cell_type": "code",
      "source": [
        "#The function find_min_max takes a tuple of integers and uses the min() and max() functions\n",
        "#to find the smallest and largest values.\n",
        "\n",
        "\n",
        "def find_min_max(input_tuple):\n",
        "    # Use tuple unpacking to find the minimum and maximum values\n",
        "    min_value, max_value = min(input_tuple), max(input_tuple)\n",
        "    return min_value, max_value\n",
        "\n",
        "\n",
        "input_tuple = (18, 921, 872, 839, 33, 65)\n",
        "min_val, max_val = find_min_max(input_tuple)\n",
        "print(f\"Minimum value: {min_val}, Maximum value: {max_val}\")\n"
      ],
      "metadata": {
        "colab": {
          "base_uri": "https://localhost:8080/"
        },
        "id": "cHcC1Yr2ngqz",
        "outputId": "0ebbcf2e-7d13-477b-8cf5-baa3686450fd"
      },
      "execution_count": null,
      "outputs": [
        {
          "output_type": "stream",
          "name": "stdout",
          "text": [
            "Minimum value: 18, Maximum value: 921\n"
          ]
        }
      ]
    },
    {
      "cell_type": "code",
      "source": [],
      "metadata": {
        "id": "v0Z92PUfnkXn"
      },
      "execution_count": null,
      "outputs": []
    },
    {
      "cell_type": "markdown",
      "source": [
        "#Question 28.Create a code that defines two sets of integers.Then,print the union,intersection,and difference of these two sets.\n",
        "#Answer:\n"
      ],
      "metadata": {
        "id": "c-qk4oQrn1U7"
      }
    },
    {
      "cell_type": "code",
      "source": [
        "#Union (|): Combines all unique elements from both sets.\n",
        "#Intersection (&): Returns elements common to both sets.\n",
        "#Difference (-): Returns elements that are in set1 but not in set2.\n",
        "\n",
        "\n",
        "def main():\n",
        "    # Defining two sets of integers\n",
        "    set1 = {11, 22, 33, 44}\n",
        "    set2 = {44, 55, 66, 77, 88}\n",
        "\n",
        "    # Calculate union, intersection, and difference\n",
        "    #Union of the two sets\n",
        "    union = set1 | set2\n",
        "\n",
        "    #Intersection of the two sets\n",
        "    intersection = set1 & set2\n",
        "\n",
        "    #Difference (elements in set1 but not in set2)\n",
        "    difference = set1 - set2\n",
        "\n",
        "    print(\"Union of the two sets:\", union)\n",
        "    print(\"Intersection of the two sets:\", intersection)\n",
        "    print(\"Difference of the two sets (set1 - set2):\", difference)\n",
        "\n",
        "# Run the main function\n",
        "if __name__ == \"__main__\":\n",
        "    main()\n"
      ],
      "metadata": {
        "colab": {
          "base_uri": "https://localhost:8080/"
        },
        "id": "TIafWGY3n-Iy",
        "outputId": "9599093d-69fd-44b3-80e4-5a499ca3b936"
      },
      "execution_count": null,
      "outputs": [
        {
          "output_type": "stream",
          "name": "stdout",
          "text": [
            "Union of the two sets: {33, 66, 11, 44, 77, 22, 55, 88}\n",
            "Intersection of the two sets: {44}\n",
            "Difference of the two sets (set1 - set2): {33, 11, 22}\n"
          ]
        }
      ]
    },
    {
      "cell_type": "code",
      "source": [],
      "metadata": {
        "id": "g66XV6dmoDqE"
      },
      "execution_count": null,
      "outputs": []
    },
    {
      "cell_type": "markdown",
      "source": [
        "#Question 29. Write a code that takes a tuple and an element as input. The function should return the count of occurrences of the given element in the tuple.\n",
        "#Answer:\n",
        "[link text](https://)"
      ],
      "metadata": {
        "id": "q9DPpYLHoLRT"
      }
    },
    {
      "cell_type": "code",
      "source": [
        "#count of occurrences of the given element in the tuple\n",
        "\n",
        "def count_occurrences(tup, element):\n",
        "    return tup.count(element)\n",
        "\n",
        "\n",
        "my_tuple = (33, 22, 33, 44, 33, 42)\n",
        "element_to_count = 33\n",
        "count = count_occurrences(my_tuple, element_to_count)\n",
        "\n",
        "print(f\"The element {element_to_count} appears {count} times in the tuple.\")\n"
      ],
      "metadata": {
        "colab": {
          "base_uri": "https://localhost:8080/"
        },
        "id": "BE0kaT4EoObu",
        "outputId": "de312c1b-4235-48cc-aaee-abb4b380af18"
      },
      "execution_count": null,
      "outputs": [
        {
          "output_type": "stream",
          "name": "stdout",
          "text": [
            "The element 33 appears 3 times in the tuple.\n"
          ]
        }
      ]
    },
    {
      "cell_type": "code",
      "source": [],
      "metadata": {
        "id": "_lxydb-coW6Z"
      },
      "execution_count": null,
      "outputs": []
    },
    {
      "cell_type": "markdown",
      "source": [
        "#Question 30.Develop a code that prompts the user to input two sets of strings.Then, print the symmetric difference of these two sets?\n",
        "#Answer:\n"
      ],
      "metadata": {
        "id": "SeXRan9Doqos"
      }
    },
    {
      "cell_type": "code",
      "source": [
        "# symmetric difference of two sets of strngs\n",
        "\n",
        "def get_set_input(prompt):\n",
        "    user_input = input(prompt)\n",
        "    return set(user_input.split())\n",
        "\n",
        "# Get two sets of strings from the user\n",
        "set1 = get_set_input(\"Enter the first set of strings (separated by spaces): \")\n",
        "set2 = get_set_input(\"Enter the second set of strings (separated by spaces): \")\n",
        "\n",
        "#symmetric difference\n",
        "symmetric_difference = set1.symmetric_difference(set2)\n",
        "\n",
        "print(\"The symmetric difference of the two sets is:\", symmetric_difference)\n"
      ],
      "metadata": {
        "colab": {
          "base_uri": "https://localhost:8080/"
        },
        "id": "sXH28yeXotp3",
        "outputId": "358baf99-a774-4601-f79f-5075d1e9d76a"
      },
      "execution_count": null,
      "outputs": [
        {
          "output_type": "stream",
          "name": "stdout",
          "text": [
            "Enter the first set of strings (separated by spaces): star,fish\n",
            "Enter the second set of strings (separated by spaces): dolphin,turtle\n",
            "The symmetric difference of the two sets is: {'star,fish', 'dolphin,turtle'}\n"
          ]
        }
      ]
    },
    {
      "cell_type": "code",
      "source": [],
      "metadata": {
        "id": "76IUZcxho2xa"
      },
      "execution_count": null,
      "outputs": []
    },
    {
      "cell_type": "markdown",
      "source": [
        "#Question 31.Write a code that takes a list of words as input and returns a dictionary where the keys are unique words and the values are the frequencies of those words in the input list.\n",
        "#Answer:\n"
      ],
      "metadata": {
        "id": "4Hh9e_oIpTB_"
      }
    },
    {
      "cell_type": "code",
      "source": [
        "\n",
        "def word_frequencies(words):\n",
        "    frequency_dict = {}\n",
        "    for word in words:\n",
        "\n",
        "        frequency_dict[word] = frequency_dict.get(word, 0) + 1\n",
        "    return frequency_dict\n",
        "\n",
        "\n",
        "input_words = input(\"Enter a list of words (separated by spaces): \").split()\n",
        "frequencies = word_frequencies(input_words)\n",
        "print(\"Word Frequencies:\", frequencies)\n"
      ],
      "metadata": {
        "colab": {
          "base_uri": "https://localhost:8080/"
        },
        "id": "F8dnIVxVpV9M",
        "outputId": "9a0dd751-1291-4beb-ac5f-789b91a6497f"
      },
      "execution_count": null,
      "outputs": [
        {
          "output_type": "stream",
          "name": "stdout",
          "text": [
            "Enter a list of words (separated by spaces): sachin rahul virat sachin\n",
            "Word Frequencies: {'sachin': 2, 'rahul': 1, 'virat': 1}\n"
          ]
        }
      ]
    },
    {
      "cell_type": "code",
      "source": [],
      "metadata": {
        "id": "0Zjm9GxDpZ07"
      },
      "execution_count": null,
      "outputs": []
    },
    {
      "cell_type": "markdown",
      "source": [
        "#Question 32.Write a code that takes two dictionaries as input and merges them into a single dictionary. If there are common keys,the values should be added together .\n",
        "#Answer:\n"
      ],
      "metadata": {
        "id": "QaN6-pWQpl3r"
      }
    },
    {
      "cell_type": "code",
      "source": [
        "\n",
        "def merge_dictionaries(dict1, dict2):\n",
        "    merged_dict = dict1.copy()\n",
        "\n",
        "    for key, value in dict2.items():\n",
        "        if key in merged_dict:\n",
        "            merged_dict[key] += value  # Sum values for common keys\n",
        "        else:\n",
        "            merged_dict[key] = value  # Add new key-value pairs\n",
        "\n",
        "    return merged_dict\n",
        "\n",
        "\n",
        "dict1 = {'a': 11, 'b': 42, 'c': 13}\n",
        "dict2 = {'b': 23, 'c': 84, 'd': 75}\n",
        "\n",
        "result = merge_dictionaries(dict1, dict2)\n",
        "print(\"Merged Dictionaries:\",result)\n"
      ],
      "metadata": {
        "colab": {
          "base_uri": "https://localhost:8080/"
        },
        "id": "yji7oe7CppEF",
        "outputId": "6391dccd-bb59-4256-915d-5fb23db3e694"
      },
      "execution_count": null,
      "outputs": [
        {
          "output_type": "stream",
          "name": "stdout",
          "text": [
            "Merged Dictionaries: {'a': 11, 'b': 65, 'c': 97, 'd': 75}\n"
          ]
        }
      ]
    },
    {
      "cell_type": "code",
      "source": [],
      "metadata": {
        "id": "jgkduTivpr9R"
      },
      "execution_count": null,
      "outputs": []
    },
    {
      "cell_type": "markdown",
      "source": [
        "#Question 33. Write a code to access a value in a nested dictionary. The function should take the dictionary and a list of keys as input, and return the corresponding value. If any of the keys do not exist in the dictionary, the function should return None.\n",
        "\n",
        "#Answer:\n"
      ],
      "metadata": {
        "id": "SE5uXnJGqBSS"
      }
    },
    {
      "cell_type": "code",
      "source": [
        "#The function get_nested_value takes two parameters: nested_dict, which is the dictionary to search,\n",
        "#and keys, which is a list of keys.\n",
        "\n",
        "def get_nested_value(nested_dict, keys):\n",
        "\n",
        "    #It initializes current_value to the input dictionary and iterates through each key in the list\n",
        "\n",
        "    current_value = nested_dict\n",
        "    for key in keys:\n",
        "        if isinstance(current_value, dict) and key in current_value:\n",
        "            current_value = current_value[key]\n",
        "        else:\n",
        "            return None\n",
        "    return current_value\n",
        "\n",
        "\n",
        "nested_dictionary = {\n",
        "    'a': {\n",
        "        'b': {\n",
        "            'c': 34\n",
        "        }\n",
        "    },\n",
        "    'd': 100\n",
        "}\n",
        "\n",
        "\n",
        "result = get_nested_value(nested_dictionary, ['a', 'b', 'c'])\n",
        "#output: 34\n",
        "print(result)\n",
        "\n",
        "result = get_nested_value(nested_dictionary, ['a', 'b', 'e'])\n",
        "#output: None\n",
        "print(result)\n"
      ],
      "metadata": {
        "colab": {
          "base_uri": "https://localhost:8080/"
        },
        "id": "KGTnYzdKqG7S",
        "outputId": "94eea6ec-55b0-434b-90ec-1dfc1024bb8d"
      },
      "execution_count": null,
      "outputs": [
        {
          "output_type": "stream",
          "name": "stdout",
          "text": [
            "34\n",
            "None\n"
          ]
        }
      ]
    },
    {
      "cell_type": "code",
      "source": [],
      "metadata": {
        "id": "AAcxqfemqKHs"
      },
      "execution_count": null,
      "outputs": []
    },
    {
      "cell_type": "markdown",
      "source": [
        "#Question 34.Write a code that takes a dictionary as input and returns a sorted version of it based on the values. You can choose whether to sort in ascending or descending order?\n",
        "#Answer:\n"
      ],
      "metadata": {
        "id": "8TwHHIvdqYQ8"
      }
    },
    {
      "cell_type": "code",
      "source": [
        "#The sort_dict_by_values function takes a dictionary and a boolean ascending parameter.\n",
        "#It uses the sorted() function, sorting by the values.\n",
        "\n",
        "def sort_dict_values(input_dict, ascending=True):\n",
        "\n",
        "    return dict(sorted(input_dict.items(), key=lambda item: item[1], reverse=not ascending))\n",
        "\n",
        "\n",
        "my_dict = {'sachin': 4, 'saurav': 3, 'rahul': 5, 'rajeev': 6}\n",
        "sorted_dict_asc = sort_dict_values(my_dict, ascending=True)\n",
        "sorted_dict_desc = sort_dict_values(my_dict, ascending=False)\n",
        "\n",
        "print(\"Sorted (Ascending):\", sorted_dict_asc)\n",
        "print(\"Sorted (Descending):\", sorted_dict_desc)\n"
      ],
      "metadata": {
        "colab": {
          "base_uri": "https://localhost:8080/"
        },
        "id": "LQjPQb37qbfv",
        "outputId": "e1015132-3cf1-4e8f-cc04-896bbaffdc81"
      },
      "execution_count": null,
      "outputs": [
        {
          "output_type": "stream",
          "name": "stdout",
          "text": [
            "Sorted (Ascending): {'saurav': 3, 'sachin': 4, 'rahul': 5, 'rajeev': 6}\n",
            "Sorted (Descending): {'rajeev': 6, 'rahul': 5, 'sachin': 4, 'saurav': 3}\n"
          ]
        }
      ]
    },
    {
      "cell_type": "code",
      "source": [],
      "metadata": {
        "id": "7uqOqWwlqcUM"
      },
      "execution_count": null,
      "outputs": []
    },
    {
      "cell_type": "markdown",
      "source": [
        "#Question 35.Write a code that inverts a dictionary,swapping keys and values. Ensure that the inverted dictionary correctly handles cases where multiple keys have the same value by storing the keys as a list in the inverted dictionary.\n",
        "\n",
        "#Answer:\n"
      ],
      "metadata": {
        "id": "ORYLqwEEqsH1"
      }
    },
    {
      "cell_type": "code",
      "source": [
        "\n",
        "# invert_dict function iterates through the input dictionary\n",
        "\n",
        "def invert_dict(input_dict):\n",
        "\n",
        "    inverted_dict = {}\n",
        "\n",
        "    for key, value in input_dict.items():\n",
        "        if value in inverted_dict:\n",
        "            # If the value already exists, append the key to the list\n",
        "            if isinstance(inverted_dict[value], list):\n",
        "                inverted_dict[value].append(key)\n",
        "            else:\n",
        "                inverted_dict[value] = [inverted_dict[value], key]\n",
        "        else:\n",
        "            # If the value does not exist, set it as the key\n",
        "            inverted_dict[value] = key\n",
        "\n",
        "    return inverted_dict\n",
        "\n",
        "my_dict = {'a': 12, 'b': 13, 'c': 15, 'd': 18}\n",
        "inverted_dict = invert_dict(my_dict)\n",
        "print(\"Inverted Dictionary:\", inverted_dict)\n"
      ],
      "metadata": {
        "colab": {
          "base_uri": "https://localhost:8080/"
        },
        "id": "osAnXP9Dqv4O",
        "outputId": "c0889ccc-8d56-4994-ba55-a4f6214089d6"
      },
      "execution_count": null,
      "outputs": [
        {
          "output_type": "stream",
          "name": "stdout",
          "text": [
            "Inverted Dictionary: {12: 'a', 13: 'b', 15: 'c', 18: 'd'}\n"
          ]
        }
      ]
    },
    {
      "cell_type": "code",
      "source": [
        "\n",
        "#--------------------------------------------THE END---------------------------------------"
      ],
      "metadata": {
        "id": "ZjRf2xxRqyTC"
      },
      "execution_count": null,
      "outputs": []
    }
  ]
}